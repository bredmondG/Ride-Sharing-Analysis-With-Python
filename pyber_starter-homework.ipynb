{
 "cells": [
  {
   "cell_type": "code",
   "execution_count": null,
   "metadata": {},
   "outputs": [],
   "source": [
    "%matplotlib inline\n",
    "# Dependencies and Setup\n",
    "import matplotlib.pyplot as plt\n",
    "import pandas as pd\n",
    "import numpy as np\n",
    "\n",
    "# File to Load (Remember to change these)\n",
    "city_data_to_load = pd.read_csv(\"data/city_data.csv\")\n",
    "ride_data_to_load = pd.read_csv(\"data/ride_data.csv\")\n",
    "\n",
    "# Read the City and Ride Data\n",
    "city_data_to_load.head()\n",
    "#ride_data_to_load.head()\n",
    "# Combine the data into a single dataset\n",
    "ride_share_data = pd.merge(city_data_to_load, ride_data_to_load, how=\"right\", on=[\"city\", \"city\"])\n",
    "# Display the data table for preview\n",
    "ride_share_data.head()"
   ]
  },
  {
   "cell_type": "markdown",
   "metadata": {},
   "source": [
    "## Bubble Plot of Ride Sharing Data"
   ]
  },
  {
   "cell_type": "code",
   "execution_count": null,
   "metadata": {},
   "outputs": [],
   "source": [
    "# Obtain the x and y coordinates for each of the three city types\n",
    "\n",
    "# Build the scatter plots for each city types\n",
    "\n",
    "# Incorporate the other graph properties\n",
    "\n",
    "# Create a legend\n",
    "\n",
    "# Incorporate a text label regarding circle size\n",
    "\n",
    "# Save Figure\n"
   ]
  },
  {
   "cell_type": "code",
   "execution_count": null,
   "metadata": {},
   "outputs": [],
   "source": [
    "#groupby city\n",
    "grouped_city = ride_share_data.groupby(['city', 'type', 'driver_count'])\n",
    "\n",
    "#average fares by city\n",
    "average_fare_series = grouped_city.fare.mean()\n",
    "\n",
    "average_fare = pd.DataFrame(average_fare_series)\n",
    "\n",
    "\n",
    "#total rides by city\n",
    "total_rides_series = grouped_city.size()\n",
    "\n",
    "total_rides = pd.DataFrame(total_rides_series)\n",
    "\n",
    "rides_fares = average_fare.join(total_rides)\n",
    "rides_fares.columns = ['fare', 'total_rides']\n",
    "rides_fares = rides_fares.reset_index(level = ['driver_count', 'type'])\n",
    "\n",
    "\n",
    "#scatter plot of total of average fare by total rides\n",
    "\n",
    "#color picker for scatter\n",
    "type_to_color = {\n",
    "    \"Urban\": \"coral\",\n",
    "    \"Suburban\": \"skyblue\",\n",
    "    'Rural': \"gold\"\n",
    "}\n",
    "\n",
    "def color_picker(x):\n",
    "    return type_to_color.get(x)\n",
    "    \n",
    "rides_fares['color'] = rides_fares['type'].map(color_picker)\n",
    "rides_fares.head()\n",
    "\n",
    "# x and y for each city type\n",
    "urban = rides_fares[rides_fares['type'] == 'Urban']\n",
    "urban_rides = urban.total_rides\n",
    "urban_fares = urban.fare\n",
    "\n",
    "\n",
    "suburban = rides_fares[rides_fares['type'] == 'Suburban']\n",
    "suburban_rides = suburban.total_rides\n",
    "suburban_fares = suburban.fare\n",
    "\n",
    "\n",
    "rural = rides_fares[rides_fares['type'] == 'Rural']\n",
    "rural_rides = rural.total_rides\n",
    "rural_fares = rural.fare\n",
    "\n",
    "\n",
    "#Scatter plot for each city type\n",
    "urban_scatter = plt.scatter(urban_rides, urban_fares, marker=\"o\",\\\n",
    "            facecolors=\"coral\", edgecolors=\"black\")\n",
    "suburban_scatter = plt.scatter(suburban_rides, suburban_fares, marker=\"o\",\\\n",
    "            facecolors=\"skyblue\", edgecolors=\"black\")\n",
    "rural_scatter = plt.scatter(rural_rides, rural_fares,marker=\"o\",\\\n",
    "            facecolors=\"gold\", edgecolors=\"black\")\n",
    "\n",
    "#plt.title(\"Pyber Ride Sharing Data (2016)\")\n",
    "#plt.ylabel(\"Average Fares ($)\")\n",
    "#plt.xlabel(\"Total Number of Rides (per city)\")\n",
    "\n",
    "\n",
    "#plt.show()\n"
   ]
  },
  {
   "cell_type": "code",
   "execution_count": null,
   "metadata": {},
   "outputs": [],
   "source": [
    "# Show plot\n",
    "plt.close()\n",
    "plt.scatter(rides_fares.total_rides, rides_fares.fare, s=rides_fares['driver_count']* 10, marker=\"o\",\\\n",
    "            facecolors=rides_fares['color'], alpha = .7, edgecolors=\"black\")\n",
    "\n",
    "\n",
    "plt.title(\"Pyber Ride Sharing Data (2016)\")\n",
    "plt.ylabel(\"Average Fares ($)\")\n",
    "plt.xlabel(\"Total Number of Rides (per city)\")\n",
    "plt.legend((urban_scatter, suburban_scatter, rural_scatter),\n",
    "           ('Urban', 'Suburban', 'Rural'),\n",
    "           scatterpoints=1,\n",
    "           loc='lower left',\n",
    "           ncol=3,\n",
    "           fontsize=8)\n",
    "plt.show()\n",
    "plt.close()"
   ]
  },
  {
   "cell_type": "markdown",
   "metadata": {},
   "source": [
    "## Total Fares by City Type"
   ]
  },
  {
   "cell_type": "code",
   "execution_count": null,
   "metadata": {},
   "outputs": [],
   "source": [
    "# Calculate Type Percents\n",
    "urban_total_fares = ride_share_data.fare[ride_share_data.type == 'Urban'].sum()\n",
    "suburban_total_fares = ride_share_data.fare[ride_share_data.type == 'Suburban'].sum()\n",
    "rural_total_fares = ride_share_data.fare[ride_share_data.type == 'Rural'].sum()\n",
    "\n",
    "# Build Pie Chart\n",
    "labels = [\"Urban\", \"Suburban\", \"Rural\"]\n",
    "\n",
    "values = [urban_total_fares, suburban_total_fares, rural_total_fares]\n",
    "\n",
    "colors = [\"coral\", \"skyblue\", 'gold']\n",
    "plt.pie(values, labels = labels, colors = colors, autopct=\"%1.1f%%\", shadow=True, explode = [.1,0,0])\n",
    "plt.axis(\"equal\")\n",
    "# Save Figure\n",
    "plt.savefig(\"CityFares.png\")\n",
    "plt.show()"
   ]
  },
  {
   "cell_type": "markdown",
   "metadata": {},
   "source": [
    "## Total Rides by City Type"
   ]
  },
  {
   "cell_type": "code",
   "execution_count": null,
   "metadata": {},
   "outputs": [],
   "source": [
    "# Calculate Ride Percents\n",
    "urban_total_count = ride_share_data.fare[ride_share_data.type == 'Urban'].count()\n",
    "suburban_total_count = ride_share_data.fare[ride_share_data.type == 'Suburban'].count()\n",
    "rural_total_count = ride_share_data.fare[ride_share_data.type == 'Rural'].count()\n",
    "# Build Pie Chart\n",
    "labels = [\"Urban\", \"Suburban\", \"Rural\"]\n",
    "\n",
    "values = [urban_total_count, suburban_total_count, rural_total_count]\n",
    "\n",
    "colors = [\"coral\", \"skyblue\", 'gold']\n",
    "plt.pie(values, labels = labels, colors = colors, autopct=\"%1.1f%%\", shadow=True, explode = [.1,0,0])\n",
    "plt.axis(\"equal\")\n",
    "# Save Figure\n",
    "plt.savefig(\"TotalRides.png\")\n",
    "plt.show()"
   ]
  },
  {
   "cell_type": "markdown",
   "metadata": {},
   "source": [
    "## Total Drivers by City Type"
   ]
  },
  {
   "cell_type": "code",
   "execution_count": null,
   "metadata": {},
   "outputs": [],
   "source": [
    "# Calculate Driver Percents\n",
    "urban_driver_count = rides_fares.driver_count[rides_fares.type == 'Urban'].sum()\n",
    "suburban_driver_count = rides_fares.driver_count[rides_fares.type == 'Suburban'].sum()\n",
    "rural_driver_count = rides_fares.driver_count[rides_fares.type == 'Rural'].sum()\n",
    "# Build Pie Charts\n",
    "labels = [\"Urban\", \"Suburban\", \"Rural\"]\n",
    "\n",
    "values = [urban_driver_count, suburban_driver_count, rural_driver_count]\n",
    "\n",
    "colors = [\"coral\", \"skyblue\", 'gold']\n",
    "plt.pie(values, labels = labels, colors = colors, autopct=\"%1.1f%%\", shadow=True, explode = [.1,0,0])\n",
    "plt.axis(\"equal\")\n",
    "# Save Figure\n",
    "plt.savefig(\"TotalDrivers.png\")\n",
    "plt.show()"
   ]
  }
 ],
 "metadata": {
  "anaconda-cloud": {},
  "kernelspec": {
   "display_name": "Python 3",
   "language": "python",
   "name": "python3"
  },
  "language_info": {
   "codemirror_mode": {
    "name": "ipython",
    "version": 3
   },
   "file_extension": ".py",
   "mimetype": "text/x-python",
   "name": "python",
   "nbconvert_exporter": "python",
   "pygments_lexer": "ipython3",
   "version": "3.7.1"
  }
 },
 "nbformat": 4,
 "nbformat_minor": 2
}
